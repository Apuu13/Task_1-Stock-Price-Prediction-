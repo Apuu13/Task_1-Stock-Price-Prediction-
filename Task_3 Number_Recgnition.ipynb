{
 "cells": [
  {
   "cell_type": "markdown",
   "metadata": {
    "id": "UxaQRMhATjn7"
   },
   "source": [
    "# Name : APARNA THAKUR"
   ]
  },
  {
   "cell_type": "markdown",
   "metadata": {
    "id": "bC8rLUYQAzAJ"
   },
   "source": [
    "# Handwritten Digit Recognition Using MNIST Dataset With The Help Of Neural Network."
   ]
  },
  {
   "cell_type": "markdown",
   "metadata": {
    "id": "yEwrLyd2BcYq"
   },
   "source": [
    "# Dataset Used : MNIST Dataset"
   ]
  },
  {
   "cell_type": "markdown",
   "metadata": {
    "id": "dboT_BxhTfa5"
   },
   "source": [
    "# About Dataset"
   ]
  },
  {
   "cell_type": "markdown",
   "metadata": {
    "id": "vqKNQwE3T2Rv"
   },
   "source": [
    "MNIST is a commonly used dataset in machine learning and computer vision research, which consists of a set of 70,000 images of handwritten digits (0-9), each of size 28x28 pixels.\n",
    "The dataset is split into two sets: a training set of 60,000 images and a test set of 10,000 images. The training set is used to train a machine learning model, while the test set is used to evaluate the model's performance."
   ]
  },
  {
   "cell_type": "code",
   "execution_count": 26,
   "metadata": {
    "id": "ieahWoNmsihl"
   },
   "outputs": [],
   "source": [
    "# Importing Libraries\n",
    "import numpy as np\n",
    "import pandas as pd\n",
    "import matplotlib.pyplot as plt\n",
    "import seaborn as sns\n",
    "from numpy import unique , argmax\n",
    "\n",
    "# TensorFlow already contain MNIST data set which can be loaded using Keras\n",
    "import tensorflow as tf # installing tenserflow\n",
    "from tensorflow import keras"
   ]
  },
  {
   "cell_type": "code",
   "execution_count": 27,
   "metadata": {
    "id": "MLWgqoSP8BlX"
   },
   "outputs": [],
   "source": [
    "# To Load the MNIST dataset from the Keras API provided by TensorFlow.\n",
    "mnist = tf.keras.datasets.mnist"
   ]
  },
  {
   "cell_type": "markdown",
   "metadata": {
    "id": "o4_zAVHZUwwR"
   },
   "source": [
    "The Above Code Reflects that the Dataset Contains :\n",
    "\n",
    "1. An array of 60,000 images, each represented as a 28x28 NumPy array, with pixel values ranging from 0 to 255.\n",
    "2. An array of 60,000 labels, each representing the correct digit (0-9) for the 1.\n",
    "3. An array of 10,000 images, each represented as a 28x28 NumPy array, with pixel values ranging from 0 to 255.\n",
    "4.  An array of 10,000 labels, each representing the correct digit (0-9) for the 3."
   ]
  },
  {
   "cell_type": "markdown",
   "metadata": {
    "id": "rAIe08hFJ02A"
   },
   "source": [
    "# Dividing the data into train and test data."
   ]
  },
  {
   "cell_type": "code",
   "execution_count": 28,
   "metadata": {
    "id": "VeB1nqygJwN2"
   },
   "outputs": [],
   "source": [
    "(x_train, y_train), (x_test, y_test) = mnist.load_data()"
   ]
  },
  {
   "cell_type": "code",
   "execution_count": 29,
   "metadata": {
    "colab": {
     "base_uri": "https://localhost:8080/"
    },
    "id": "pD36dm78DGxW",
    "outputId": "c9948824-bbd1-4c43-baee-09732b0fdf2c"
   },
   "outputs": [
    {
     "name": "stdout",
     "output_type": "stream",
     "text": [
      "(60000, 28, 28)\n",
      "(60000,)\n",
      "(10000, 28, 28)\n",
      "(10000,)\n"
     ]
    }
   ],
   "source": [
    "print(x_train.shape)\n",
    "print(y_train.shape)\n",
    "print(x_test.shape)\n",
    "print(y_test.shape)"
   ]
  },
  {
   "cell_type": "code",
   "execution_count": 30,
   "metadata": {
    "colab": {
     "base_uri": "https://localhost:8080/"
    },
    "id": "z3hDselGDXl0",
    "outputId": "ef3fc442-6f12-4511-819c-1269de0c6037"
   },
   "outputs": [
    {
     "name": "stdout",
     "output_type": "stream",
     "text": [
      "[[[0 0 0 ... 0 0 0]\n",
      "  [0 0 0 ... 0 0 0]\n",
      "  [0 0 0 ... 0 0 0]\n",
      "  ...\n",
      "  [0 0 0 ... 0 0 0]\n",
      "  [0 0 0 ... 0 0 0]\n",
      "  [0 0 0 ... 0 0 0]]\n",
      "\n",
      " [[0 0 0 ... 0 0 0]\n",
      "  [0 0 0 ... 0 0 0]\n",
      "  [0 0 0 ... 0 0 0]\n",
      "  ...\n",
      "  [0 0 0 ... 0 0 0]\n",
      "  [0 0 0 ... 0 0 0]\n",
      "  [0 0 0 ... 0 0 0]]\n",
      "\n",
      " [[0 0 0 ... 0 0 0]\n",
      "  [0 0 0 ... 0 0 0]\n",
      "  [0 0 0 ... 0 0 0]\n",
      "  ...\n",
      "  [0 0 0 ... 0 0 0]\n",
      "  [0 0 0 ... 0 0 0]\n",
      "  [0 0 0 ... 0 0 0]]\n",
      "\n",
      " ...\n",
      "\n",
      " [[0 0 0 ... 0 0 0]\n",
      "  [0 0 0 ... 0 0 0]\n",
      "  [0 0 0 ... 0 0 0]\n",
      "  ...\n",
      "  [0 0 0 ... 0 0 0]\n",
      "  [0 0 0 ... 0 0 0]\n",
      "  [0 0 0 ... 0 0 0]]\n",
      "\n",
      " [[0 0 0 ... 0 0 0]\n",
      "  [0 0 0 ... 0 0 0]\n",
      "  [0 0 0 ... 0 0 0]\n",
      "  ...\n",
      "  [0 0 0 ... 0 0 0]\n",
      "  [0 0 0 ... 0 0 0]\n",
      "  [0 0 0 ... 0 0 0]]\n",
      "\n",
      " [[0 0 0 ... 0 0 0]\n",
      "  [0 0 0 ... 0 0 0]\n",
      "  [0 0 0 ... 0 0 0]\n",
      "  ...\n",
      "  [0 0 0 ... 0 0 0]\n",
      "  [0 0 0 ... 0 0 0]\n",
      "  [0 0 0 ... 0 0 0]]]\n"
     ]
    }
   ],
   "source": [
    "print(x_train)"
   ]
  },
  {
   "cell_type": "code",
   "execution_count": 31,
   "metadata": {
    "colab": {
     "base_uri": "https://localhost:8080/"
    },
    "id": "0M_e6959VAhp",
    "outputId": "613f6375-da7d-4d2d-9301-d410a30ca2a8"
   },
   "outputs": [
    {
     "name": "stdout",
     "output_type": "stream",
     "text": [
      "[[[0 0 0 ... 0 0 0]\n",
      "  [0 0 0 ... 0 0 0]\n",
      "  [0 0 0 ... 0 0 0]\n",
      "  ...\n",
      "  [0 0 0 ... 0 0 0]\n",
      "  [0 0 0 ... 0 0 0]\n",
      "  [0 0 0 ... 0 0 0]]\n",
      "\n",
      " [[0 0 0 ... 0 0 0]\n",
      "  [0 0 0 ... 0 0 0]\n",
      "  [0 0 0 ... 0 0 0]\n",
      "  ...\n",
      "  [0 0 0 ... 0 0 0]\n",
      "  [0 0 0 ... 0 0 0]\n",
      "  [0 0 0 ... 0 0 0]]\n",
      "\n",
      " [[0 0 0 ... 0 0 0]\n",
      "  [0 0 0 ... 0 0 0]\n",
      "  [0 0 0 ... 0 0 0]\n",
      "  ...\n",
      "  [0 0 0 ... 0 0 0]\n",
      "  [0 0 0 ... 0 0 0]\n",
      "  [0 0 0 ... 0 0 0]]\n",
      "\n",
      " ...\n",
      "\n",
      " [[0 0 0 ... 0 0 0]\n",
      "  [0 0 0 ... 0 0 0]\n",
      "  [0 0 0 ... 0 0 0]\n",
      "  ...\n",
      "  [0 0 0 ... 0 0 0]\n",
      "  [0 0 0 ... 0 0 0]\n",
      "  [0 0 0 ... 0 0 0]]\n",
      "\n",
      " [[0 0 0 ... 0 0 0]\n",
      "  [0 0 0 ... 0 0 0]\n",
      "  [0 0 0 ... 0 0 0]\n",
      "  ...\n",
      "  [0 0 0 ... 0 0 0]\n",
      "  [0 0 0 ... 0 0 0]\n",
      "  [0 0 0 ... 0 0 0]]\n",
      "\n",
      " [[0 0 0 ... 0 0 0]\n",
      "  [0 0 0 ... 0 0 0]\n",
      "  [0 0 0 ... 0 0 0]\n",
      "  ...\n",
      "  [0 0 0 ... 0 0 0]\n",
      "  [0 0 0 ... 0 0 0]\n",
      "  [0 0 0 ... 0 0 0]]]\n"
     ]
    }
   ],
   "source": [
    "print(x_test)"
   ]
  },
  {
   "cell_type": "code",
   "execution_count": 32,
   "metadata": {
    "colab": {
     "base_uri": "https://localhost:8080/"
    },
    "id": "k1cDS-mwDebm",
    "outputId": "cb837b47-1e8a-4643-c1d0-aa881652fe6e"
   },
   "outputs": [
    {
     "name": "stdout",
     "output_type": "stream",
     "text": [
      "(60000, 28, 28, 1)\n",
      "(10000, 28, 28, 1)\n",
      "uint8\n",
      "uint8\n"
     ]
    }
   ],
   "source": [
    "# Reshaping the input Data which is used as a input in CNN in Tenserflow\n",
    "# CNN takes the input Data in 4D Format with the shape (num_samples, image_height, image_width, num_channels)\n",
    "# Here (num_channels) is set to 1 which means input image is Grayscale.\n",
    "\n",
    "x_train = x_train.reshape((x_train.shape[0] , x_train.shape[1] , x_train.shape[2],1))\n",
    "x_test = x_test.reshape((x_test.shape[0] , x_test.shape[1] , x_test.shape[2],1))\n",
    "print(x_train.shape)\n",
    "print(x_test.shape)\n",
    "print(x_train.dtype)\n",
    "print(x_test.dtype)"
   ]
  },
  {
   "cell_type": "code",
   "execution_count": 33,
   "metadata": {
    "colab": {
     "base_uri": "https://localhost:8080/"
    },
    "id": "03cEBHDdMfin",
    "outputId": "c670777d-98f1-4db3-c1a7-25bc9597e22b"
   },
   "outputs": [
    {
     "name": "stdout",
     "output_type": "stream",
     "text": [
      "float32\n",
      "float32\n"
     ]
    }
   ],
   "source": [
    "# Normalizing Pixel Values\n",
    "\n",
    "x_train = x_train.astype('float32')/255.0\n",
    "x_test = x_test.astype('float32')/255.0\n",
    "print(x_train.dtype)\n",
    "print(x_test.dtype)"
   ]
  },
  {
   "cell_type": "code",
   "execution_count": 34,
   "metadata": {
    "colab": {
     "base_uri": "https://localhost:8080/",
     "height": 218
    },
    "id": "3IQpTDt7MfmB",
    "outputId": "93487693-95ec-499d-b31e-74ea68c749fc"
   },
   "outputs": [
    {
     "data": {
      "image/png": "[encoded data removed]",
      "text/plain": [
       "<Figure size 500x300 with 20 Axes>"
      ]
     },
     "metadata": {},
     "output_type": "display_data"
    }
   ],
   "source": [
    "# Visulaizing Subsets of images in MNIST Dataset along with coressponding labels.\n",
    "\n",
    "fig=plt.figure(figsize=(5,3))\n",
    "for i in range(20):\n",
    "    ax =fig.add_subplot(2,10,i+1, xticks=[], yticks=[])\n",
    "    ax.imshow(np.squeeze(x_train[i]), cmap='Blues')\n",
    "    ax.set_title(y_train[i])"
   ]
  },
  {
   "cell_type": "code",
   "execution_count": 35,
   "metadata": {
    "colab": {
     "base_uri": "https://localhost:8080/"
    },
    "id": "r8tSDEJMMfpG",
    "outputId": "5ba5b7c2-65a7-4c88-c64e-dc88e1e59e5e"
   },
   "outputs": [
    {
     "data": {
      "text/plain": [
       "(28, 28, 1)"
      ]
     },
     "execution_count": 35,
     "metadata": {},
     "output_type": "execute_result"
    }
   ],
   "source": [
    "# showing shape of single image\n",
    "img_shape= x_train.shape[1:]\n",
    "img_shape"
   ]
  },
  {
   "cell_type": "markdown",
   "metadata": {
    "id": "vM7k_7G_Mo8t"
   },
   "source": [
    "# BUILDING NEURAL NETWORK THAT CAN READ HANDWRITTEN DIGITS.\n"
   ]
  },
  {
   "cell_type": "code",
   "execution_count": 36,
   "metadata": {
    "id": "jPdZrt0TMfsP"
   },
   "outputs": [],
   "source": [
    "# Creating aSequential Model in Keras\n",
    "model = tf.keras.models.Sequential([\n",
    "    tf.keras.layers.Flatten(input_shape=(28, 28)),\n",
    "    tf.keras.layers.Dense(128, activation='relu'),\n",
    "    tf.keras.layers.Dropout(0.2),\n",
    "    tf.keras.layers.Dense(10)\n",
    "])"
   ]
  },
  {
   "cell_type": "code",
   "execution_count": 37,
   "metadata": {
    "colab": {
     "base_uri": "https://localhost:8080/"
    },
    "id": "seo7yrceMfvd",
    "outputId": "2acfe992-0542-47b5-c994-d8a8a466e3df"
   },
   "outputs": [
    {
     "name": "stdout",
     "output_type": "stream",
     "text": [
      "Model: \"sequential_2\"\n",
      "_________________________________________________________________\n",
      " Layer (type)                Output Shape              Param #   \n",
      "=================================================================\n",
      " flatten_1 (Flatten)         (None, 784)               0         \n",
      "                                                                 \n",
      " dense_2 (Dense)             (None, 128)               100480    \n",
      "                                                                 \n",
      " dropout_1 (Dropout)         (None, 128)               0         \n",
      "                                                                 \n",
      " dense_3 (Dense)             (None, 10)                1290      \n",
      "                                                                 \n",
      "=================================================================\n",
      "Total params: 101,770\n",
      "Trainable params: 101,770\n",
      "Non-trainable params: 0\n",
      "_________________________________________________________________\n"
     ]
    }
   ],
   "source": [
    "model.summary()"
   ]
  },
  {
   "cell_type": "markdown",
   "metadata": {
    "id": "mThkQDYIBAcb"
   },
   "source": [
    "This summary shows that the model has four layers:\n",
    "\n",
    "1. A Flatten layer that flattens the input images to a 1D array of length 784.\n",
    "2. A Dense layer with 128 units and ReLU activation.\n",
    "3. A Dropout layer that randomly sets 20% of the input units to 0 during training.\n",
    "4. A second Dense layer with 10 units and no activation function.\n",
    "\n",
    "The summary also shows the number of trainable parameters in each layer, as well as the total number of trainable parameters in the model. In this case, the model has a total of 101,770 trainable parameters."
   ]
  },
  {
   "cell_type": "code",
   "execution_count": 38,
   "metadata": {
    "colab": {
     "base_uri": "https://localhost:8080/",
     "height": 533
    },
    "id": "z_yaQqG_Mfy_",
    "outputId": "d2731d7e-30ec-4391-bbea-3a19d949f7c4"
   },
   "outputs": [
    {
     "data": {
      "image/jpeg": "[encoded data removed]",
      "text/plain": [
       "<IPython.core.display.Image object>"
      ]
     },
     "execution_count": 38,
     "metadata": {},
     "output_type": "execute_result"
    }
   ],
   "source": [
    "# Displaying Neural Network Model\n",
    "from tensorflow.keras.utils import plot_model\n",
    "plot_model(model, 'model.jpg', show_shapes = True)"
   ]
  },
  {
   "cell_type": "code",
   "execution_count": 39,
   "metadata": {
    "colab": {
     "base_uri": "https://localhost:8080/"
    },
    "id": "ylgovUfbMf2L",
    "outputId": "f68c0b11-d6cc-4b89-c531-0de23bca54ae"
   },
   "outputs": [
    {
     "data": {
      "text/plain": [
       "array([[ 0.08819406,  0.02334788,  0.05840464,  0.06903427,  0.5252824 ,\n",
       "        -0.04078927, -0.22387438, -0.43524188, -0.27941954, -0.03243962]],\n",
       "      dtype=float32)"
      ]
     },
     "execution_count": 39,
     "metadata": {},
     "output_type": "execute_result"
    }
   ],
   "source": [
    "# Making Prediction on Model\n",
    "prediction = model(x_train[:1]).numpy()\n",
    "prediction"
   ]
  },
  {
   "cell_type": "code",
   "execution_count": 40,
   "metadata": {
    "colab": {
     "base_uri": "https://localhost:8080/"
    },
    "id": "F5uwn8CdMf4x",
    "outputId": "03474edd-5ebf-4ce1-cda0-b21fa51ba549"
   },
   "outputs": [
    {
     "data": {
      "text/plain": [
       "array([[0.10846904, 0.10165843, 0.10528546, 0.10641058, 0.16793098,\n",
       "        0.09534305, 0.07939189, 0.06426588, 0.07510229, 0.09614246]],\n",
       "      dtype=float32)"
      ]
     },
     "execution_count": 40,
     "metadata": {},
     "output_type": "execute_result"
    }
   ],
   "source": [
    "# Applying Softmax() Function to prediction array\n",
    "# This convert an output vector of real numbers into a probability distribution over predicted classes\n",
    "tf.nn.softmax(prediction).numpy()"
   ]
  },
  {
   "cell_type": "code",
   "execution_count": 41,
   "metadata": {
    "id": "5J_iycOwMf7m"
   },
   "outputs": [],
   "source": [
    "loss_fn = tf.keras.losses.SparseCategoricalCrossentropy(from_logits=True)\n",
    "loss_fn(y_train[:1], prediction).numpy()\n",
    "model.compile(optimizer='adam',loss=loss_fn,metrics=['accuracy'])"
   ]
  },
  {
   "cell_type": "markdown",
   "metadata": {
    "id": "5O-pLKT1NA4w"
   },
   "source": [
    "# Model fitting"
   ]
  },
  {
   "cell_type": "code",
   "execution_count": 42,
   "metadata": {
    "colab": {
     "base_uri": "https://localhost:8080/"
    },
    "id": "22uv89DKMf-s",
    "outputId": "f1377698-0dbd-4c78-bf23-9360ab45b250"
   },
   "outputs": [
    {
     "name": "stdout",
     "output_type": "stream",
     "text": [
      "Epoch 1/5\n",
      "1875/1875 [==============================] - 8s 4ms/step - loss: 0.2960 - accuracy: 0.9140\n",
      "Epoch 2/5\n",
      "1875/1875 [==============================] - 6s 3ms/step - loss: 0.1439 - accuracy: 0.9571\n",
      "Epoch 3/5\n",
      "1875/1875 [==============================] - 7s 4ms/step - loss: 0.1089 - accuracy: 0.9672\n",
      "Epoch 4/5\n",
      "1875/1875 [==============================] - 6s 3ms/step - loss: 0.0890 - accuracy: 0.9727\n",
      "Epoch 5/5\n",
      "1875/1875 [==============================] - 7s 4ms/step - loss: 0.0757 - accuracy: 0.9764\n"
     ]
    },
    {
     "data": {
      "text/plain": [
       "<keras.callbacks.History at 0x7f41a1286830>"
      ]
     },
     "execution_count": 42,
     "metadata": {},
     "output_type": "execute_result"
    }
   ],
   "source": [
    "# Training the Model\n",
    "model.fit(x_train, y_train, epochs=5)"
   ]
  },
  {
   "cell_type": "code",
   "execution_count": 43,
   "metadata": {
    "colab": {
     "base_uri": "https://localhost:8080/"
    },
    "id": "vpV5HdwMMgBp",
    "outputId": "6d0152fe-3718-4b10-d1b7-3a25e351d359"
   },
   "outputs": [
    {
     "name": "stdout",
     "output_type": "stream",
     "text": [
      "313/313 - 1s - loss: 0.0752 - accuracy: 0.9770 - 545ms/epoch - 2ms/step\n"
     ]
    },
    {
     "data": {
      "text/plain": [
       "[0.07518018782138824, 0.9769999980926514]"
      ]
     },
     "execution_count": 43,
     "metadata": {},
     "output_type": "execute_result"
    }
   ],
   "source": [
    "# Evaluating the Model\n",
    "model.evaluate(x_test, y_test, verbose=2)"
   ]
  },
  {
   "cell_type": "code",
   "execution_count": 44,
   "metadata": {
    "colab": {
     "base_uri": "https://localhost:8080/"
    },
    "id": "X3EtESLWNINg",
    "outputId": "c3a995a3-9257-4ff9-d1ea-27d8e59c613a"
   },
   "outputs": [
    {
     "data": {
      "text/plain": [
       "<tf.Tensor: shape=(5, 10), dtype=float32, numpy=\n",
       "array([[1.5023636e-08, 2.8046278e-08, 8.6892478e-06, 2.1114422e-05,\n",
       "        8.8602803e-10, 4.8365621e-08, 6.1451641e-13, 9.9996769e-01,\n",
       "        2.8051858e-07, 2.1160774e-06],\n",
       "       [3.8681939e-08, 4.1496165e-05, 9.9991894e-01, 1.7614640e-05,\n",
       "        4.3373732e-15, 1.6626309e-05, 3.2137373e-06, 9.0283954e-13,\n",
       "        2.0866528e-06, 7.1583733e-13],\n",
       "       [3.7049006e-07, 9.9759489e-01, 1.6454932e-04, 5.1491074e-06,\n",
       "        3.9168852e-05, 6.7521983e-06, 4.3748798e-05, 1.8154874e-03,\n",
       "        3.2646983e-04, 3.4668781e-06],\n",
       "       [9.9989104e-01, 1.0030488e-07, 3.4515320e-05, 4.4909646e-07,\n",
       "        1.5330463e-05, 2.1342439e-06, 2.7114160e-05, 2.8521930e-05,\n",
       "        7.9536186e-08, 5.7907613e-07],\n",
       "       [4.1292051e-06, 6.2117507e-09, 5.1304491e-05, 1.7004332e-07,\n",
       "        9.9647850e-01, 4.2222570e-07, 3.9773659e-06, 8.5955893e-05,\n",
       "        2.9344408e-06, 3.3726362e-03]], dtype=float32)>"
      ]
     },
     "execution_count": 44,
     "metadata": {},
     "output_type": "execute_result"
    }
   ],
   "source": [
    "# Creating a new sequential model which includes both previously trained model and softmax layer.\n",
    "probability_model = tf.keras.Sequential([ model,tf.keras.layers.Softmax() ])\n",
    "probability_model(x_test[:5])"
   ]
  },
  {
   "cell_type": "code",
   "execution_count": 45,
   "metadata": {
    "colab": {
     "base_uri": "https://localhost:8080/",
     "height": 430
    },
    "id": "_N7VsLJkNIQ8",
    "outputId": "6664dc3b-ae67-4882-83ed-e7c1cdbe65db"
   },
   "outputs": [
    {
     "data": {
      "image/png": "[encoded data removed]",
      "text/plain": [
       "<Figure size 640x480 with 1 Axes>"
      ]
     },
     "metadata": {},
     "output_type": "display_data"
    }
   ],
   "source": [
    "# Displaying a Grayscale Image\n",
    "img = x_train[12]\n",
    "plt.imshow(np.squeeze(img) ,cmap='gray')\n",
    "plt.show()"
   ]
  },
  {
   "cell_type": "code",
   "execution_count": 46,
   "metadata": {
    "colab": {
     "base_uri": "https://localhost:8080/"
    },
    "id": "SXxmSMlLNIUF",
    "outputId": "978f454a-94ac-44e0-9abb-d88bd7e6691f"
   },
   "outputs": [
    {
     "name": "stdout",
     "output_type": "stream",
     "text": [
      "1/1 [==============================] - 0s 55ms/step\n",
      "predicted : 3\n"
     ]
    }
   ],
   "source": [
    "# Predicting the Result\n",
    "img= img.reshape(1, img.shape[0],img.shape[1],img.shape[2])\n",
    "p= model.predict([img])\n",
    "print(\"predicted : {}\".format(argmax(p)))"
   ]
  }
 ],
 "metadata": {
  "colab": {
   "provenance": []
  },
  "kernelspec": {
   "display_name": "Python 3 (ipykernel)",
   "language": "python",
   "name": "python3"
  },
  "language_info": {
   "codemirror_mode": {
    "name": "ipython",
    "version": 3
   },
   "file_extension": ".py",
   "mimetype": "text/x-python",
   "name": "python",
   "nbconvert_exporter": "python",
   "pygments_lexer": "ipython3",
   "version": "3.9.12"
  }
 },
 "nbformat": 4,
 "nbformat_minor": 1
}
